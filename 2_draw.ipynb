{
 "cells": [
  {
   "cell_type": "markdown",
   "metadata": {},
   "source": [
    "# Bingo draw-mechanic\n",
    "- Run the whole notebook\n",
    "- Rerun the bottom cell until you run out of numbers or someone gets the last bingo\n",
    "- Distribute new cards, rerun notebook from top"
   ]
  },
  {
   "cell_type": "code",
   "execution_count": null,
   "metadata": {},
   "outputs": [],
   "source": [
    "# Lowest and highest number, important that this matches the card-generation\n",
    "mini = 1\n",
    "maxi = 75"
   ]
  },
  {
   "cell_type": "code",
   "execution_count": null,
   "metadata": {},
   "outputs": [],
   "source": [
    "# Libraries\n",
    "from IPython.core.display import display, HTML"
   ]
  },
  {
   "cell_type": "code",
   "execution_count": null,
   "metadata": {},
   "outputs": [],
   "source": [
    "# Scramble-function from separate py-file\n",
    "%run scramble.py"
   ]
  },
  {
   "cell_type": "code",
   "execution_count": null,
   "metadata": {},
   "outputs": [],
   "source": [
    "# Make and scramble lists for use\n",
    "a = list(range(mini,maxi+1))\n",
    "b = scrambled(a)\n",
    "# We'll fill this with the drawn numbers later\n",
    "d = []"
   ]
  },
  {
   "cell_type": "markdown",
   "metadata": {},
   "source": [
    "### Run this cell over and over again to generate new numbers (ctrl-enter)"
   ]
  },
  {
   "cell_type": "code",
   "execution_count": null,
   "metadata": {},
   "outputs": [],
   "source": [
    "# Print out a list of the numbers used, sorted back to *not* reveal the drawing-order\n",
    "c = b.copy()\n",
    "c.sort()\n",
    "print(c)\n",
    "\n",
    "# If there are numbers left to be drawn, pop them off \"b\", and put them in \"d\"\n",
    "if b:\n",
    "    # Pop off, actually from the end, but no one needs to know\n",
    "    current = b.pop()\n",
    "    # Big red letters\n",
    "    display(HTML(f\"<h1 style='color: red; font-size: 100px;'>{current}</h1>\"))\n",
    "    # Add the number to the \"drawn-list\"\n",
    "    d.append(current)\n",
    "    \n",
    "# If the list is empty, we are done. User needs to run the cells from the top again.\n",
    "else:\n",
    "    display(HTML(f\"<h1 style='color: yellow; font-size: 50px;'>Done, rerun first cell to restart.<br /> (You will loose your draw-history.)</h1>\"))\n",
    "\n",
    "# Print out drawn numbers in the order they were drawn\n",
    "print(d)"
   ]
  }
 ],
 "metadata": {
  "kernelspec": {
   "display_name": "Python 3",
   "language": "python",
   "name": "python3"
  },
  "language_info": {
   "codemirror_mode": {
    "name": "ipython",
    "version": 3
   },
   "file_extension": ".py",
   "mimetype": "text/x-python",
   "name": "python",
   "nbconvert_exporter": "python",
   "pygments_lexer": "ipython3",
   "version": "3.8.6"
  }
 },
 "nbformat": 4,
 "nbformat_minor": 4
}
