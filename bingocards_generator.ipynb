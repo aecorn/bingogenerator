{
 "cells": [
  {
   "cell_type": "code",
   "execution_count": null,
   "metadata": {},
   "outputs": [],
   "source": [
    "# How many cards do you want?\n",
    "card_num = 10\n",
    "\n",
    "#Lowest and highest number\n",
    "mini = 1\n",
    "maxi = 75"
   ]
  },
  {
   "cell_type": "code",
   "execution_count": null,
   "metadata": {},
   "outputs": [],
   "source": [
    "card_padding = len(str(card_num))"
   ]
  },
  {
   "cell_type": "code",
   "execution_count": null,
   "metadata": {},
   "outputs": [],
   "source": [
    "# Libraries\n",
    "import random\n",
    "import os\n",
    "import shutil\n",
    "from IPython.core.display import display, HTML"
   ]
  },
  {
   "cell_type": "code",
   "execution_count": 4,
   "metadata": {},
   "outputs": [],
   "source": [
    "# Scramble-function\n",
    "def scrambled(orig):\n",
    "    dest = orig[:]\n",
    "    random.shuffle(dest)\n",
    "    return dest"
   ]
  },
  {
   "cell_type": "code",
   "execution_count": 5,
   "metadata": {},
   "outputs": [],
   "source": [
    "#Deleting old contents in output_cards\n",
    "folder = \"output_cards\"\n",
    "for filename in os.listdir(folder):\n",
    "    file_path = os.path.join(folder, filename)\n",
    "    try:\n",
    "        if os.path.isfile(file_path) or os.path.islink(file_path):\n",
    "            os.unlink(file_path)\n",
    "        elif os.path.isdir(file_path):\n",
    "            shutil.rmtree(file_path)\n",
    "    except Exception as e:\n",
    "        print('Failed to delete %s. Reason: %s' % (file_path, e))"
   ]
  },
  {
   "cell_type": "code",
   "execution_count": 6,
   "metadata": {},
   "outputs": [],
   "source": [
    "a = list(range(mini,maxi+1))"
   ]
  },
  {
   "cell_type": "code",
   "execution_count": 7,
   "metadata": {},
   "outputs": [
    {
     "name": "stdout",
     "output_type": "stream",
     "text": [
      "[[3, 4, 12, 7, 5], [16, 42, 34, 41, 21], [44, 43, 'FREE SPACE', 45, 49], [59, 53, 54, 57, 55], [66, 63, 65, 75, 67]]\n",
      "[[9, 7, 8, 5, 1], [21, 19, 11, 12, 23], [25, 27, 'FREE SPACE', 33, 35], [46, 44, 54, 50, 52], [58, 70, 61, 75, 72]]\n",
      "[[13, 6, 5, 12, 4], [22, 16, 25, 17, 21], [36, 41, 'FREE SPACE', 28, 26], [54, 44, 55, 52, 59], [61, 62, 71, 63, 75]]\n",
      "[[10, 8, 16, 6, 11], [26, 23, 20, 21, 28], [43, 39, 'FREE SPACE', 44, 37], [45, 50, 52, 49, 46], [59, 74, 63, 58, 55]]\n",
      "[[10, 3, 9, 12, 4], [15, 16, 13, 14, 17], [24, 28, 'FREE SPACE', 25, 19], [33, 32, 42, 45, 39], [73, 48, 55, 53, 61]]\n",
      "[[11, 3, 14, 12, 2], [19, 18, 23, 30, 32], [44, 37, 'FREE SPACE', 41, 39], [66, 60, 64, 51, 67], [75, 68, 74, 71, 70]]\n",
      "[[12, 3, 7, 20, 19], [33, 21, 39, 32, 42], [44, 53, 'FREE SPACE', 51, 45], [59, 55, 64, 57, 62], [69, 65, 73, 75, 70]]\n",
      "[[17, 10, 2, 13, 12], [33, 25, 28, 26, 27], [36, 38, 'FREE SPACE', 39, 34], [41, 53, 48, 46, 54], [65, 60, 66, 56, 57]]\n",
      "[[9, 13, 2, 10, 17], [25, 30, 27, 18, 20], [36, 46, 'FREE SPACE', 31, 40], [49, 56, 51, 55, 54], [75, 68, 58, 67, 57]]\n",
      "[[7, 8, 5, 4, 1], [23, 19, 18, 22, 25], [30, 39, 'FREE SPACE', 37, 33], [43, 41, 52, 42, 50], [72, 75, 63, 55, 62]]\n"
     ]
    }
   ],
   "source": [
    "all_cards = []\n",
    "for num in range (1, card_num +1):\n",
    "    b = scrambled(a)\n",
    "    card = []\n",
    "    #print(num)\n",
    "    # There are 5x5 - 1 numbered cells, the minus one is the \"free space\" in the middle\n",
    "    c = b[:24]\n",
    "    # Each number may only appear once\n",
    "    c.sort()\n",
    "    # The numbers appear somewhat in order by columns from the left\n",
    "    \n",
    "    mid = scrambled(c[10:14])\n",
    "    \n",
    "    card = [\n",
    "        scrambled(c[:5]),\n",
    "        scrambled(c[5:10]),\n",
    "        [mid[0], mid[1], \"FREE SPACE\", mid[2], mid[3]],\n",
    "        scrambled(c[14:19]),\n",
    "        scrambled(c[19:24])\n",
    "    ]\n",
    "    \n",
    "    print(card)\n",
    "    all_cards.append(card)"
   ]
  },
  {
   "cell_type": "code",
   "execution_count": 8,
   "metadata": {},
   "outputs": [],
   "source": [
    "#CSS and HTML header\n",
    "\n",
    "output_start =\"\"\"\n",
    "<html>\n",
    "<head>\n",
    "<style>\n",
    "\n",
    "body {\n",
    "    background-color: white;\n",
    "    font-size: 20px\n",
    "}\n",
    "\n",
    ".card_num {\n",
    "    font-family: Arial;\n",
    "    font-size: 20px;\n",
    "    font-weight: 900;\n",
    "    top: 25px;\n",
    "    position: relative;\n",
    "    left: 405px;\n",
    "}\n",
    "\n",
    "table {\n",
    "    width: 1000px;\n",
    "    height: 1050px;\n",
    "    border: solid black;\n",
    "    position: relative;\n",
    "    top: 50px;\n",
    "}\n",
    "\n",
    "td.freespace {\n",
    "font-size: 10px\n",
    "}\n",
    "\n",
    "td{\n",
    "    height: 200px;\n",
    "    width: 200px;\n",
    "    text-align: center;\n",
    "    border-color:black;\n",
    "    border-style:solid;\n",
    "    border-width:1px;\n",
    "    font-family:Arial, sans-serif;\n",
    "    font-size:50px;\n",
    "    font-weight: 900;\n",
    "    overflow:hidden;\n",
    "    padding:10px 5px;\n",
    "    word-break:normal;\n",
    "}\n",
    "\n",
    "th{\n",
    "    border-color:black;\n",
    "    border-style:solid;\n",
    "    border-width:1px;\n",
    "    font-family:Arial, sans-serif;\n",
    "    font-size:50px;\n",
    "    font-weight:900;\n",
    "    overflow:hidden;\n",
    "    padding:10px 5px;\n",
    "    word-break:normal;\n",
    "}\n",
    "\n",
    "</style>\n",
    "</head>\n",
    "<body>\n",
    "\"\"\"\n",
    "\n"
   ]
  },
  {
   "cell_type": "code",
   "execution_count": 9,
   "metadata": {},
   "outputs": [
    {
     "data": {
      "text/html": [
       "\n",
       "<html>\n",
       "<head>\n",
       "<style>\n",
       "\n",
       "body {\n",
       "    background-color: white;\n",
       "    font-size: 20px\n",
       "}\n",
       "\n",
       ".card_num {\n",
       "    font-family: Arial;\n",
       "    font-size: 20px;\n",
       "    font-weight: 900;\n",
       "    top: 25px;\n",
       "    position: relative;\n",
       "    left: 405px;\n",
       "}\n",
       "\n",
       "table {\n",
       "    width: 1000px;\n",
       "    height: 1050px;\n",
       "    border: solid black;\n",
       "    position: relative;\n",
       "    top: 50px;\n",
       "}\n",
       "\n",
       "td.freespace {\n",
       "font-size: 10px\n",
       "}\n",
       "\n",
       "td{\n",
       "    height: 200px;\n",
       "    width: 200px;\n",
       "    text-align: center;\n",
       "    border-color:black;\n",
       "    border-style:solid;\n",
       "    border-width:1px;\n",
       "    font-family:Arial, sans-serif;\n",
       "    font-size:50px;\n",
       "    font-weight: 900;\n",
       "    overflow:hidden;\n",
       "    padding:10px 5px;\n",
       "    word-break:normal;\n",
       "}\n",
       "\n",
       "th{\n",
       "    border-color:black;\n",
       "    border-style:solid;\n",
       "    border-width:1px;\n",
       "    font-family:Arial, sans-serif;\n",
       "    font-size:50px;\n",
       "    font-weight:900;\n",
       "    overflow:hidden;\n",
       "    padding:10px 5px;\n",
       "    word-break:normal;\n",
       "}\n",
       "\n",
       "</style>\n",
       "</head>\n",
       "<body>\n",
       "<span class='card_num'>Card number: 10</span><table><thead><tr><th>B</th><th>I</th><th>N</th><th>G</th><th>O</th></tr></thead><tbody><tr><td>7</td><td>23</td><td>30</td><td>43</td><td>72</td></tr><tr><td>8</td><td>19</td><td>39</td><td>41</td><td>75</td></tr><tr><td>5</td><td>18</td><td class='freecell'>FREE<br />SPACE</td><td>52</td><td>63</td></tr><tr><td>4</td><td>22</td><td>37</td><td>42</td><td>55</td></tr><tr><td>1</td><td>25</td><td>33</td><td>50</td><td>62</td></tr></tbody></table></body></html>"
      ],
      "text/plain": [
       "<IPython.core.display.HTML object>"
      ]
     },
     "metadata": {},
     "output_type": "display_data"
    }
   ],
   "source": [
    "for j, card in enumerate(all_cards):\n",
    "    output = output_start\n",
    "    output += f\"<span class='card_num'>Card number: {str(j+1).zfill(card_padding)}</span>\"\n",
    "    output += \"<table><thead><tr><th>B</th><th>I</th><th>N</th><th>G</th><th>O</th></tr></thead><tbody>\"\n",
    "    for i, column in enumerate(card):\n",
    "        output += \"<tr>\"\n",
    "        for row in card:\n",
    "            cell = row[i]\n",
    "            #print(cell)\n",
    "            if cell == \"FREE SPACE\":\n",
    "                output += f\"<td class='freecell'>FREE<br />SPACE</td>\"\n",
    "            else:\n",
    "                output += f\"<td>{cell}</td>\"\n",
    "        output += \"</tr>\"\n",
    "    output += \"</tbody></table></body></html>\"\n",
    "\n",
    "    # Output needs to go to a file\n",
    "    \n",
    "    html_file = \"\"\n",
    "    html_file = open(f\"output_cards/{str(j+1).zfill(card_padding)}_bingocard.html\", \"w\")\n",
    "    html_file.write(output)\n",
    "    html_file.close()\n",
    "    \n",
    "# Sample of last card\n",
    "# Find the rest in the \"output_cards\"-folder\n",
    "display(HTML(output))"
   ]
  },
  {
   "cell_type": "code",
   "execution_count": null,
   "metadata": {},
   "outputs": [],
   "source": []
  },
  {
   "cell_type": "code",
   "execution_count": null,
   "metadata": {},
   "outputs": [],
   "source": []
  }
 ],
 "metadata": {
  "kernelspec": {
   "display_name": "Python 3",
   "language": "python",
   "name": "python3"
  },
  "language_info": {
   "codemirror_mode": {
    "name": "ipython",
    "version": 3
   },
   "file_extension": ".py",
   "mimetype": "text/x-python",
   "name": "python",
   "nbconvert_exporter": "python",
   "pygments_lexer": "ipython3",
   "version": "3.8.6"
  }
 },
 "nbformat": 4,
 "nbformat_minor": 4
}
