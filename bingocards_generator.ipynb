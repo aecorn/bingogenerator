{
 "cells": [
  {
   "cell_type": "code",
   "execution_count": null,
   "metadata": {},
   "outputs": [],
   "source": [
    "# How many cards do you want?\n",
    "card_num = 1\n",
    "\n",
    "#Lowest and highest number\n",
    "mini = 1\n",
    "maxi = 75"
   ]
  },
  {
   "cell_type": "code",
   "execution_count": null,
   "metadata": {},
   "outputs": [],
   "source": [
    "card_padding = len(str(card_num))"
   ]
  },
  {
   "cell_type": "code",
   "execution_count": null,
   "metadata": {},
   "outputs": [],
   "source": [
    "# Libraries\n",
    "import os\n",
    "import shutil\n",
    "from IPython.core.display import display, HTML"
   ]
  },
  {
   "cell_type": "code",
   "execution_count": null,
   "metadata": {},
   "outputs": [],
   "source": [
    "# Scramble-function from separate py-file\n",
    "%run scramble.py"
   ]
  },
  {
   "cell_type": "code",
   "execution_count": null,
   "metadata": {},
   "outputs": [],
   "source": [
    "#Deleting old contents in output_cards\n",
    "folder = \"output_cards\"\n",
    "if not os.path.exists(folder):\n",
    "    os.makedirs(folder)\n",
    "for filename in os.listdir(folder):\n",
    "    file_path = os.path.join(folder, filename)\n",
    "    try:\n",
    "        if os.path.isfile(file_path) or os.path.islink(file_path):\n",
    "            os.unlink(file_path)\n",
    "        elif os.path.isdir(file_path):\n",
    "            shutil.rmtree(file_path)\n",
    "    except Exception as e:\n",
    "        print('Failed to delete %s. Reason: %s' % (file_path, e))"
   ]
  },
  {
   "cell_type": "code",
   "execution_count": null,
   "metadata": {},
   "outputs": [],
   "source": [
    "a = list(range(mini,maxi+1))"
   ]
  },
  {
   "cell_type": "code",
   "execution_count": null,
   "metadata": {},
   "outputs": [],
   "source": [
    "all_cards = []\n",
    "for num in range (1, card_num +1):\n",
    "    b = scrambled(a)\n",
    "    card = []\n",
    "    #print(num)\n",
    "    # There are 5x5 - 1 numbered cells, the minus one is the \"free space\" in the middle\n",
    "    c = b[:24]\n",
    "    # Each number may only appear once\n",
    "    c.sort()\n",
    "    # The numbers appear somewhat in order by columns from the left\n",
    "    \n",
    "    mid = scrambled(c[10:14])\n",
    "    \n",
    "    card = [\n",
    "        scrambled(c[:5]),\n",
    "        scrambled(c[5:10]),\n",
    "        [mid[0], mid[1], \"FREE SPACE\", mid[2], mid[3]],\n",
    "        scrambled(c[14:19]),\n",
    "        scrambled(c[19:24])\n",
    "    ]\n",
    "    \n",
    "    #print(card)\n",
    "    all_cards.append(card)"
   ]
  },
  {
   "cell_type": "code",
   "execution_count": null,
   "metadata": {},
   "outputs": [],
   "source": [
    "#CSS and HTML header\n",
    "\n",
    "output_start =\"\"\"\n",
    "<html>\n",
    "<head>\n",
    "<style>\n",
    "\n",
    "body {\n",
    "    background-color: white;\n",
    "    font-size: 20px\n",
    "}\n",
    "\n",
    ".card_num {\n",
    "    font-family: Arial;\n",
    "    font-size: 20px;\n",
    "    font-weight: 900;\n",
    "    top: 25px;\n",
    "    position: relative;\n",
    "    left: 405px;\n",
    "}\n",
    "\n",
    "table {\n",
    "    width: 1000px;\n",
    "    height: 1050px;\n",
    "    border: solid black;\n",
    "    position: relative;\n",
    "    top: 50px;\n",
    "}\n",
    "\n",
    "td.freespace {\n",
    "font-size: 10px\n",
    "}\n",
    "\n",
    "td{\n",
    "    height: 200px;\n",
    "    width: 200px;\n",
    "    text-align: center;\n",
    "    border-color:black;\n",
    "    border-style:solid;\n",
    "    border-width:1px;\n",
    "    font-family:Arial, sans-serif;\n",
    "    font-size:50px;\n",
    "    font-weight: 900;\n",
    "    overflow:hidden;\n",
    "    padding:10px 5px;\n",
    "    word-break:normal;\n",
    "}\n",
    "\n",
    "th{\n",
    "    border-color:black;\n",
    "    border-style:solid;\n",
    "    border-width:1px;\n",
    "    font-family:Arial, sans-serif;\n",
    "    font-size:50px;\n",
    "    font-weight:900;\n",
    "    overflow:hidden;\n",
    "    padding:10px 5px;\n",
    "    word-break:normal;\n",
    "}\n",
    "\n",
    "</style>\n",
    "</head>\n",
    "<body>\n",
    "\"\"\"\n",
    "\n"
   ]
  },
  {
   "cell_type": "code",
   "execution_count": null,
   "metadata": {},
   "outputs": [],
   "source": [
    "for j, card in enumerate(all_cards):\n",
    "    output = output_start\n",
    "    output += f\"<span class='card_num'>Card number: {str(j+1).zfill(card_padding)}</span>\"\n",
    "    output += \"<table><thead><tr><th>B</th><th>I</th><th>N</th><th>G</th><th>O</th></tr></thead><tbody>\"\n",
    "    for i, column in enumerate(card):\n",
    "        output += \"<tr>\"\n",
    "        for row in card:\n",
    "            cell = row[i]\n",
    "            #print(cell)\n",
    "            if cell == \"FREE SPACE\":\n",
    "                output += f\"<td class='freecell'>FREE<br />SPACE</td>\"\n",
    "            else:\n",
    "                output += f\"<td>{cell}</td>\"\n",
    "        output += \"</tr>\"\n",
    "    output += \"</tbody></table></body></html>\"\n",
    "\n",
    "    # Output needs to go to a file\n",
    "    \n",
    "    html_file = \"\"\n",
    "    html_file = open(f\"output_cards/{str(j+1).zfill(card_padding)}_bingocard.html\", \"w\")\n",
    "    html_file.write(output)\n",
    "    html_file.close()\n",
    "    \n",
    "# Sample of last card\n",
    "# Find the rest in the \"output_cards\"-folder\n",
    "display(HTML(output))"
   ]
  }
 ],
 "metadata": {
  "kernelspec": {
   "display_name": "Python 3",
   "language": "python",
   "name": "python3"
  },
  "language_info": {
   "codemirror_mode": {
    "name": "ipython",
    "version": 3
   },
   "file_extension": ".py",
   "mimetype": "text/x-python",
   "name": "python",
   "nbconvert_exporter": "python",
   "pygments_lexer": "ipython3",
   "version": "3.8.6"
  }
 },
 "nbformat": 4,
 "nbformat_minor": 4
}
