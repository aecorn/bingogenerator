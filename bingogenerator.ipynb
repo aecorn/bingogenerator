{
 "cells": [
  {
   "cell_type": "markdown",
   "metadata": {},
   "source": [
    "# Bingogenerator"
   ]
  },
  {
   "cell_type": "code",
   "execution_count": 10,
   "metadata": {},
   "outputs": [],
   "source": [
    "mini = 1\n",
    "maxi = 75"
   ]
  },
  {
   "cell_type": "code",
   "execution_count": 11,
   "metadata": {},
   "outputs": [],
   "source": [
    "# Libraries\n",
    "from IPython.core.display import display, HTML"
   ]
  },
  {
   "cell_type": "code",
   "execution_count": 12,
   "metadata": {},
   "outputs": [],
   "source": [
    "# Scramble-function\n",
    "%run scramble.py"
   ]
  },
  {
   "cell_type": "code",
   "execution_count": 13,
   "metadata": {},
   "outputs": [],
   "source": [
    "# Make and scramble lists for use later\n",
    "a = list(range(mini,maxi+1))\n",
    "b = scrambled(a)\n",
    "d = []"
   ]
  },
  {
   "cell_type": "code",
   "execution_count": 14,
   "metadata": {},
   "outputs": [
    {
     "name": "stdout",
     "output_type": "stream",
     "text": [
      "[1, 2, 3, 4, 5, 6, 7, 8, 9, 10, 11, 12, 13, 14, 15, 16, 17, 18, 19, 20, 21, 22, 23, 24, 25, 26, 27, 28, 29, 30, 31, 32, 33, 34, 35, 36, 37, 38, 39, 40, 41, 42, 43, 44, 45, 46, 47, 48, 49, 50, 51, 52, 53, 54, 55, 56, 57, 58, 59, 60, 61, 62, 63, 64, 65, 66, 67, 68, 69, 70, 71, 72, 73, 74, 75]\n"
     ]
    },
    {
     "data": {
      "text/html": [
       "<h1 style='color: red; font-size: 100px;'>29</h1>"
      ],
      "text/plain": [
       "<IPython.core.display.HTML object>"
      ]
     },
     "metadata": {},
     "output_type": "display_data"
    },
    {
     "name": "stdout",
     "output_type": "stream",
     "text": [
      "[29]\n"
     ]
    }
   ],
   "source": [
    "# Run this cell over and over again to generate new numbers (ctrl-enter)\n",
    "\n",
    "# Print out a list of the numbers used, sorted back to not reveal the drawing-order\n",
    "c = b.copy()\n",
    "c.sort()\n",
    "print(c)\n",
    "\n",
    "# If there are numbers left to be drawn, pop them off \"b\", and put them in \"d\"\n",
    "if b:\n",
    "    current = b.pop()\n",
    "    display(HTML(f\"<h1 style='color: red; font-size: 100px;'>{current}</h1>\"))\n",
    "    d.append(current)\n",
    "# If the list is empty, we are done\n",
    "else:\n",
    "    display(HTML(f\"<h1 style='color: yellow; font-size: 50px;'>Done, rerun first cell to restart.<br /> (You will loose your draw-history.)</h1>\"))\n",
    "\n",
    "# Print out drawn numbers in the order they were drawn\n",
    "print(d)"
   ]
  },
  {
   "cell_type": "code",
   "execution_count": null,
   "metadata": {},
   "outputs": [],
   "source": []
  },
  {
   "cell_type": "code",
   "execution_count": null,
   "metadata": {},
   "outputs": [],
   "source": []
  }
 ],
 "metadata": {
  "kernelspec": {
   "display_name": "Python 3",
   "language": "python",
   "name": "python3"
  },
  "language_info": {
   "codemirror_mode": {
    "name": "ipython",
    "version": 3
   },
   "file_extension": ".py",
   "mimetype": "text/x-python",
   "name": "python",
   "nbconvert_exporter": "python",
   "pygments_lexer": "ipython3",
   "version": "3.8.6"
  }
 },
 "nbformat": 4,
 "nbformat_minor": 4
}
