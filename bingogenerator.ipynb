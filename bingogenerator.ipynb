{
 "cells": [
  {
   "cell_type": "markdown",
   "metadata": {},
   "source": [
    "# Bingogenerator"
   ]
  },
  {
   "cell_type": "code",
   "execution_count": null,
   "metadata": {
    "jupyter": {
     "source_hidden": true
    }
   },
   "outputs": [],
   "source": [
    "# Libraries\n",
    "import random\n",
    "from IPython.core.display import display, HTML"
   ]
  },
  {
   "cell_type": "code",
   "execution_count": null,
   "metadata": {
    "jupyter": {
     "source_hidden": true
    }
   },
   "outputs": [],
   "source": [
    "# Scramble-function\n",
    "def scrambled(orig):\n",
    "    dest = orig[:]\n",
    "    random.shuffle(dest)\n",
    "    return dest"
   ]
  },
  {
   "cell_type": "code",
   "execution_count": null,
   "metadata": {
    "jupyter": {
     "source_hidden": true
    }
   },
   "outputs": [],
   "source": [
    "# Make and scramble lists for use later\n",
    "a = list(range(1,76))\n",
    "b = scrambled(a)\n",
    "d = []"
   ]
  },
  {
   "cell_type": "code",
   "execution_count": null,
   "metadata": {
    "jupyter": {
     "source_hidden": true
    }
   },
   "outputs": [],
   "source": [
    "# Run this cell over and over again to generate new numbers (ctrl-enter)\n",
    "\n",
    "# Print out a list of the numbers used, sorted back to not reveal the drawing-order\n",
    "c = b.copy()\n",
    "c.sort()\n",
    "print(c)\n",
    "\n",
    "# If there are numbers left to be drawn, pop them off \"b\", and put them in \"d\"\n",
    "if b:\n",
    "    current = b.pop()\n",
    "    display(HTML(f\"<h1 style='color: red; font-size: 100px;'>{current}</h1>\"))\n",
    "    d.append(current)\n",
    "# If the list is empty, we are done\n",
    "else:\n",
    "    display(HTML(f\"<h1 style='color: yellow; font-size: 50px;'>Done, rerun first cell to restart.<br /> (You will loose your draw-history.)</h1>\"))\n",
    "\n",
    "# Print out drawn numbers in the order they were drawn\n",
    "print(d)"
   ]
  }
 ],
 "metadata": {
  "kernelspec": {
   "display_name": "Python 3",
   "language": "python",
   "name": "python3"
  },
  "language_info": {
   "codemirror_mode": {
    "name": "ipython",
    "version": 3
   },
   "file_extension": ".py",
   "mimetype": "text/x-python",
   "name": "python",
   "nbconvert_exporter": "python",
   "pygments_lexer": "ipython3",
   "version": "3.8.6"
  }
 },
 "nbformat": 4,
 "nbformat_minor": 4
}
