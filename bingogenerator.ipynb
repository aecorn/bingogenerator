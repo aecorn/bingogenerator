{
 "cells": [
  {
   "cell_type": "markdown",
   "metadata": {},
   "source": [
    "# Bingogenerator"
   ]
  },
  {
   "cell_type": "code",
   "execution_count": null,
   "metadata": {},
   "outputs": [],
   "source": [
    "mini = 1\n",
    "maxi = 75"
   ]
  },
  {
   "cell_type": "code",
   "execution_count": 82,
   "metadata": {},
   "outputs": [],
   "source": [
    "# Libraries\n",
    "import random\n",
    "from IPython.core.display import display, HTML"
   ]
  },
  {
   "cell_type": "code",
   "execution_count": 83,
   "metadata": {},
   "outputs": [],
   "source": [
    "# Scramble-function\n",
    "def scrambled(orig):\n",
    "    dest = orig[:]\n",
    "    random.shuffle(dest)\n",
    "    return dest"
   ]
  },
  {
   "cell_type": "code",
   "execution_count": 84,
   "metadata": {},
   "outputs": [],
   "source": [
    "# Make and scramble lists for use later\n",
    "a = list(range(mini,maxi+1))\n",
    "b = scrambled(a)\n",
    "d = []"
   ]
  },
  {
   "cell_type": "code",
   "execution_count": 170,
   "metadata": {},
   "outputs": [
    {
     "name": "stdout",
     "output_type": "stream",
     "text": [
      "[]\n"
     ]
    },
    {
     "data": {
      "text/html": [
       "<h1 style='color: yellow; font-size: 50px;'>Done, rerun first cell to restart.<br /> (You will loose your draw-history.)</h1>"
      ],
      "text/plain": [
       "<IPython.core.display.HTML object>"
      ]
     },
     "metadata": {},
     "output_type": "display_data"
    },
    {
     "name": "stdout",
     "output_type": "stream",
     "text": [
      "[20, 34, 2, 32, 42, 36, 31, 71, 39, 38, 24, 46, 64, 6, 73, 55, 15, 68, 22, 51, 52, 41, 1, 53, 11, 62, 14, 43, 69, 4, 63, 5, 75, 25, 45, 9, 7, 17, 65, 70, 30, 67, 10, 37, 49, 8, 54, 13, 23, 72, 19, 47, 44, 16, 61, 12, 29, 35, 21, 40, 28, 58, 50, 33, 57, 60, 27, 56, 18, 74, 59, 66, 3, 48, 26]\n"
     ]
    }
   ],
   "source": [
    "# Run this cell over and over again to generate new numbers (ctrl-enter)\n",
    "\n",
    "# Print out a list of the numbers used, sorted back to not reveal the drawing-order\n",
    "c = b.copy()\n",
    "c.sort()\n",
    "print(c)\n",
    "\n",
    "# If there are numbers left to be drawn, pop them off \"b\", and put them in \"d\"\n",
    "if b:\n",
    "    current = b.pop()\n",
    "    display(HTML(f\"<h1 style='color: red; font-size: 100px;'>{current}</h1>\"))\n",
    "    d.append(current)\n",
    "# If the list is empty, we are done\n",
    "else:\n",
    "    display(HTML(f\"<h1 style='color: yellow; font-size: 50px;'>Done, rerun first cell to restart.<br /> (You will loose your draw-history.)</h1>\"))\n",
    "\n",
    "# Print out drawn numbers in the order they were drawn\n",
    "print(d)"
   ]
  },
  {
   "cell_type": "code",
   "execution_count": null,
   "metadata": {},
   "outputs": [],
   "source": []
  }
 ],
 "metadata": {
  "kernelspec": {
   "display_name": "Python 3",
   "language": "python",
   "name": "python3"
  },
  "language_info": {
   "codemirror_mode": {
    "name": "ipython",
    "version": 3
   },
   "file_extension": ".py",
   "mimetype": "text/x-python",
   "name": "python",
   "nbconvert_exporter": "python",
   "pygments_lexer": "ipython3",
   "version": "3.8.6"
  }
 },
 "nbformat": 4,
 "nbformat_minor": 4
}
